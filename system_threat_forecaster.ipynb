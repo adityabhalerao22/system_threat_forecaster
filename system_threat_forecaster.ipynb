{
  "metadata": {
    "kernelspec": {
      "language": "python",
      "display_name": "Python 3",
      "name": "python3"
    },
    "language_info": {
      "name": "python",
      "version": "3.10.12",
      "mimetype": "text/x-python",
      "codemirror_mode": {
        "name": "ipython",
        "version": 3
      },
      "pygments_lexer": "ipython3",
      "nbconvert_exporter": "python",
      "file_extension": ".py"
    },
    "kaggle": {
      "accelerator": "nvidiaTeslaT4",
      "dataSources": [
        {
          "sourceId": 90791,
          "databundleVersionId": 10592855,
          "sourceType": "competition"
        }
      ],
      "dockerImageVersionId": 30839,
      "isInternetEnabled": true,
      "language": "python",
      "sourceType": "notebook",
      "isGpuEnabled": true
    },
    "colab": {
      "name": "22f1000145-notebook-t12025.",
      "provenance": [],
      "include_colab_link": true
    }
  },
  "nbformat_minor": 0,
  "nbformat": 4,
  "cells": [
    {
      "cell_type": "markdown",
      "metadata": {
        "id": "view-in-github",
        "colab_type": "text"
      },
      "source": [
        "<a href=\"https://colab.research.google.com/github/adityabhalerao22/system_threat_forecaster/blob/main/system_threat_forecaster.ipynb\" target=\"_parent\"><img src=\"https://colab.research.google.com/assets/colab-badge.svg\" alt=\"Open In Colab\"/></a>"
      ]
    },
    {
      "source": [
        "# IMPORTANT: SOME KAGGLE DATA SOURCES ARE PRIVATE\n",
        "# RUN THIS CELL IN ORDER TO IMPORT YOUR KAGGLE DATA SOURCES.\n",
        "import kagglehub\n",
        "kagglehub.login()\n"
      ],
      "metadata": {
        "id": "jLObd3aV1C8W"
      },
      "cell_type": "code",
      "outputs": [],
      "execution_count": null
    },
    {
      "source": [
        "# IMPORTANT: RUN THIS CELL IN ORDER TO IMPORT YOUR KAGGLE DATA SOURCES,\n",
        "# THEN FEEL FREE TO DELETE THIS CELL.\n",
        "# NOTE: THIS NOTEBOOK ENVIRONMENT DIFFERS FROM KAGGLE'S PYTHON\n",
        "# ENVIRONMENT SO THERE MAY BE MISSING LIBRARIES USED BY YOUR\n",
        "# NOTEBOOK.\n",
        "\n",
        "system_threat_forecaster_path = kagglehub.competition_download('System-Threat-Forecaster')\n",
        "\n",
        "print('Data source import complete.')\n"
      ],
      "metadata": {
        "id": "cViKp4I_1C8Y"
      },
      "cell_type": "code",
      "outputs": [],
      "execution_count": null
    },
    {
      "cell_type": "code",
      "source": [
        "# This Python 3 environment comes with many helpful analytics libraries installed\n",
        "# It is defined by the kaggle/python Docker image: https://github.com/kaggle/docker-python\n",
        "# For example, here's several helpful packages to load\n",
        "\n",
        "import numpy as np # linear algebra\n",
        "import pandas as pd # data processing, CSV file I/O (e.g. pd.read_csv)\n",
        "\n",
        "# Input data files are available in the read-only \"../input/\" directory\n",
        "# For example, running this (by clicking run or pressing Shift+Enter) will list all files under the input directory\n",
        "\n",
        "import os\n",
        "for dirname, _, filenames in os.walk('/kaggle/input'):\n",
        "    for filename in filenames:\n",
        "        print(os.path.join(dirname, filename))\n",
        "\n",
        "# You can write up to 20GB to the current directory (/kaggle/working/) that gets preserved as output when you create a version using \"Save & Run All\"\n",
        "# You can also write temporary files to /kaggle/temp/, but they won't be saved outside of the current session"
      ],
      "metadata": {
        "_uuid": "8f2839f25d086af736a60e9eeb907d3b93b6e0e5",
        "_cell_guid": "b1076dfc-b9ad-4769-8c92-a6c4dae69d19",
        "trusted": true,
        "execution": {
          "iopub.status.busy": "2025-03-23T09:43:59.383114Z",
          "iopub.execute_input": "2025-03-23T09:43:59.383461Z",
          "iopub.status.idle": "2025-03-23T09:43:59.403781Z",
          "shell.execute_reply.started": "2025-03-23T09:43:59.383435Z",
          "shell.execute_reply": "2025-03-23T09:43:59.402974Z"
        },
        "id": "kOuMOc8o1C8Y"
      },
      "outputs": [],
      "execution_count": null
    },
    {
      "cell_type": "code",
      "source": [
        "train = pd.read_csv(\"/kaggle/input/System-Threat-Forecaster/train.csv\")"
      ],
      "metadata": {
        "trusted": true,
        "execution": {
          "iopub.status.busy": "2025-03-23T09:43:59.447719Z",
          "iopub.execute_input": "2025-03-23T09:43:59.447988Z",
          "iopub.status.idle": "2025-03-23T09:44:00.411049Z",
          "shell.execute_reply.started": "2025-03-23T09:43:59.447967Z",
          "shell.execute_reply": "2025-03-23T09:44:00.410362Z"
        },
        "id": "x1SIwt3F1C8Y"
      },
      "outputs": [],
      "execution_count": null
    },
    {
      "cell_type": "code",
      "source": [
        "#dropping target column\n",
        "X = train.drop(columns=['target', 'MachineID'])\n",
        "y = train['target']"
      ],
      "metadata": {
        "trusted": true,
        "execution": {
          "iopub.status.busy": "2025-03-23T09:44:00.412226Z",
          "iopub.execute_input": "2025-03-23T09:44:00.412485Z",
          "iopub.status.idle": "2025-03-23T09:44:00.441994Z",
          "shell.execute_reply.started": "2025-03-23T09:44:00.412465Z",
          "shell.execute_reply": "2025-03-23T09:44:00.441317Z"
        },
        "id": "-_BfCSMV1C8Z"
      },
      "outputs": [],
      "execution_count": null
    },
    {
      "cell_type": "code",
      "source": [
        "train.head()"
      ],
      "metadata": {
        "trusted": true,
        "execution": {
          "iopub.status.busy": "2025-03-23T09:44:00.443441Z",
          "iopub.execute_input": "2025-03-23T09:44:00.443675Z",
          "iopub.status.idle": "2025-03-23T09:44:00.464093Z",
          "shell.execute_reply.started": "2025-03-23T09:44:00.443654Z",
          "shell.execute_reply": "2025-03-23T09:44:00.463326Z"
        },
        "id": "y6v_sT801C8Z"
      },
      "outputs": [],
      "execution_count": null
    },
    {
      "cell_type": "code",
      "source": [
        "train.describe()"
      ],
      "metadata": {
        "trusted": true,
        "execution": {
          "iopub.status.busy": "2025-03-23T09:44:00.465495Z",
          "iopub.execute_input": "2025-03-23T09:44:00.465804Z",
          "iopub.status.idle": "2025-03-23T09:44:00.722819Z",
          "shell.execute_reply.started": "2025-03-23T09:44:00.46578Z",
          "shell.execute_reply": "2025-03-23T09:44:00.72199Z"
        },
        "id": "O1WkZ0Sc1C8Z"
      },
      "outputs": [],
      "execution_count": null
    },
    {
      "cell_type": "code",
      "source": [
        "train.shape"
      ],
      "metadata": {
        "trusted": true,
        "execution": {
          "iopub.status.busy": "2025-03-23T09:44:00.724028Z",
          "iopub.execute_input": "2025-03-23T09:44:00.724437Z",
          "iopub.status.idle": "2025-03-23T09:44:00.730131Z",
          "shell.execute_reply.started": "2025-03-23T09:44:00.724398Z",
          "shell.execute_reply": "2025-03-23T09:44:00.72917Z"
        },
        "id": "IgygAURq1C8Z"
      },
      "outputs": [],
      "execution_count": null
    },
    {
      "cell_type": "code",
      "source": [
        "train.dtypes"
      ],
      "metadata": {
        "trusted": true,
        "execution": {
          "iopub.status.busy": "2025-03-23T09:44:00.731311Z",
          "iopub.execute_input": "2025-03-23T09:44:00.732004Z",
          "iopub.status.idle": "2025-03-23T09:44:00.752548Z",
          "shell.execute_reply.started": "2025-03-23T09:44:00.731964Z",
          "shell.execute_reply": "2025-03-23T09:44:00.751696Z"
        },
        "id": "uS10tg0s1C8Z"
      },
      "outputs": [],
      "execution_count": null
    },
    {
      "cell_type": "code",
      "source": [
        "# Check class distribution\n",
        "plt.figure(figsize=(6, 4))\n",
        "train['target'].value_counts().plot(kind='bar', color=['blue', 'red'])\n",
        "plt.xlabel(\"Target Classes (0 = No Malware, 1 = Malware)\")\n",
        "plt.ylabel(\"Count\")\n",
        "plt.title(\"Class Distribution of Target Variable\")\n",
        "plt.show()\n"
      ],
      "metadata": {
        "trusted": true,
        "execution": {
          "iopub.status.busy": "2025-03-23T09:44:00.753366Z",
          "iopub.execute_input": "2025-03-23T09:44:00.753662Z",
          "iopub.status.idle": "2025-03-23T09:44:00.911417Z",
          "shell.execute_reply.started": "2025-03-23T09:44:00.753637Z",
          "shell.execute_reply": "2025-03-23T09:44:00.910537Z"
        },
        "id": "pnf6fvn71C8Z"
      },
      "outputs": [],
      "execution_count": null
    },
    {
      "cell_type": "code",
      "source": [
        "# The bar chart above shows a balanced data set with almost an equal number of outcomes of Target."
      ],
      "metadata": {
        "trusted": true,
        "execution": {
          "iopub.status.busy": "2025-03-23T09:44:00.912206Z",
          "iopub.execute_input": "2025-03-23T09:44:00.912459Z",
          "iopub.status.idle": "2025-03-23T09:44:00.915749Z",
          "shell.execute_reply.started": "2025-03-23T09:44:00.912436Z",
          "shell.execute_reply": "2025-03-23T09:44:00.914936Z"
        },
        "id": "rvnuCUNk1C8Z"
      },
      "outputs": [],
      "execution_count": null
    },
    {
      "cell_type": "code",
      "source": [
        " #Identifying the columns segregating categorical and numerical data\n",
        "catcolumns = X.select_dtypes(include=['object']).columns\n",
        "numcolumns = X.select_dtypes(include=['int64', 'float64']).columns\n"
      ],
      "metadata": {
        "trusted": true,
        "execution": {
          "iopub.status.busy": "2025-03-23T09:44:00.918586Z",
          "iopub.execute_input": "2025-03-23T09:44:00.91885Z",
          "iopub.status.idle": "2025-03-23T09:44:00.954272Z",
          "shell.execute_reply.started": "2025-03-23T09:44:00.918816Z",
          "shell.execute_reply": "2025-03-23T09:44:00.953596Z"
        },
        "id": "S1IayXVP1C8Z"
      },
      "outputs": [],
      "execution_count": null
    },
    {
      "cell_type": "code",
      "source": [
        "catcolumns"
      ],
      "metadata": {
        "trusted": true,
        "execution": {
          "iopub.status.busy": "2025-03-23T09:44:00.955838Z",
          "iopub.execute_input": "2025-03-23T09:44:00.956076Z",
          "iopub.status.idle": "2025-03-23T09:44:00.961227Z",
          "shell.execute_reply.started": "2025-03-23T09:44:00.956055Z",
          "shell.execute_reply": "2025-03-23T09:44:00.960332Z"
        },
        "id": "xJfXIkgQ1C8a"
      },
      "outputs": [],
      "execution_count": null
    },
    {
      "cell_type": "code",
      "source": [
        "numcolumns"
      ],
      "metadata": {
        "trusted": true,
        "execution": {
          "iopub.status.busy": "2025-03-23T09:44:00.962138Z",
          "iopub.execute_input": "2025-03-23T09:44:00.962395Z",
          "iopub.status.idle": "2025-03-23T09:44:00.98017Z",
          "shell.execute_reply.started": "2025-03-23T09:44:00.962363Z",
          "shell.execute_reply": "2025-03-23T09:44:00.979492Z"
        },
        "id": "EBONhpgn1C8a"
      },
      "outputs": [],
      "execution_count": null
    },
    {
      "cell_type": "code",
      "source": [
        "# Find columns with only one unique value\n",
        "constant_columns = [col for col in X.columns if X[col].nunique() == 1]\n",
        "constant_columns"
      ],
      "metadata": {
        "trusted": true,
        "execution": {
          "iopub.status.busy": "2025-03-23T09:44:00.980977Z",
          "iopub.execute_input": "2025-03-23T09:44:00.981271Z",
          "iopub.status.idle": "2025-03-23T09:44:01.186129Z",
          "shell.execute_reply.started": "2025-03-23T09:44:00.981219Z",
          "shell.execute_reply": "2025-03-23T09:44:01.185343Z"
        },
        "id": "MyZ7vs_z1C8a"
      },
      "outputs": [],
      "execution_count": null
    },
    {
      "cell_type": "code",
      "source": [
        "# These columns have 1 variable so we can remove them\n",
        "train.drop(columns=['IsBetaUser'])\n",
        "train.drop(columns=['IsFlightsDisabled'])\n",
        "train.drop(columns=['AutoSampleSubmissionEnabled'])"
      ],
      "metadata": {
        "trusted": true,
        "execution": {
          "iopub.status.busy": "2025-03-23T09:44:01.186901Z",
          "iopub.execute_input": "2025-03-23T09:44:01.187122Z",
          "iopub.status.idle": "2025-03-23T09:44:01.312315Z",
          "shell.execute_reply.started": "2025-03-23T09:44:01.187102Z",
          "shell.execute_reply": "2025-03-23T09:44:01.311246Z"
        },
        "id": "bedEKBTj1C8a"
      },
      "outputs": [],
      "execution_count": null
    },
    {
      "cell_type": "code",
      "source": [
        "import seaborn as sns\n",
        "import matplotlib.pyplot as plt\n",
        "plt.figure(figsize=(12, 12))\n",
        "sns.heatmap(train.isnull(), cbar=False, cmap='viridis')\n",
        "plt.title(\"Missing Values Heatmap\")\n",
        "plt.show()"
      ],
      "metadata": {
        "trusted": true,
        "execution": {
          "iopub.status.busy": "2025-03-23T09:44:01.313272Z",
          "iopub.execute_input": "2025-03-23T09:44:01.313537Z",
          "iopub.status.idle": "2025-03-23T09:44:08.435223Z",
          "shell.execute_reply.started": "2025-03-23T09:44:01.313504Z",
          "shell.execute_reply": "2025-03-23T09:44:08.434482Z"
        },
        "id": "ZOt8aQgK1C8a"
      },
      "outputs": [],
      "execution_count": null
    },
    {
      "cell_type": "code",
      "source": [
        "missing_values = train.isnull().sum()\n",
        "print(missing_values)"
      ],
      "metadata": {
        "trusted": true,
        "execution": {
          "iopub.status.busy": "2025-03-23T09:44:08.43621Z",
          "iopub.execute_input": "2025-03-23T09:44:08.436596Z",
          "iopub.status.idle": "2025-03-23T09:44:08.573141Z",
          "shell.execute_reply.started": "2025-03-23T09:44:08.436561Z",
          "shell.execute_reply": "2025-03-23T09:44:08.572304Z"
        },
        "id": "q_zTRX5Y1C8a"
      },
      "outputs": [],
      "execution_count": null
    },
    {
      "cell_type": "code",
      "source": [
        "# Ignoring columns with 0 null values"
      ],
      "metadata": {
        "trusted": true,
        "execution": {
          "iopub.status.busy": "2025-03-23T09:44:08.574141Z",
          "iopub.execute_input": "2025-03-23T09:44:08.574525Z",
          "iopub.status.idle": "2025-03-23T09:44:08.578387Z",
          "shell.execute_reply.started": "2025-03-23T09:44:08.574477Z",
          "shell.execute_reply": "2025-03-23T09:44:08.577391Z"
        },
        "id": "So6oS4Tk1C8a"
      },
      "outputs": [],
      "execution_count": null
    },
    {
      "cell_type": "code",
      "source": [
        "missing_values = train.isnull().sum()\n",
        "missing_values = missing_values[missing_values > 0].sort_values(ascending=False)\n",
        "print(missing_values)"
      ],
      "metadata": {
        "trusted": true,
        "execution": {
          "iopub.status.busy": "2025-03-23T09:44:08.579291Z",
          "iopub.execute_input": "2025-03-23T09:44:08.579602Z",
          "iopub.status.idle": "2025-03-23T09:44:08.726733Z",
          "shell.execute_reply.started": "2025-03-23T09:44:08.579571Z",
          "shell.execute_reply": "2025-03-23T09:44:08.725925Z"
        },
        "id": "3hWLzPD11C8a"
      },
      "outputs": [],
      "execution_count": null
    },
    {
      "cell_type": "code",
      "source": [
        "train[numcolumns] = train[numcolumns].replace([np.inf, -np.inf], np.nan)  # Replace inf values\n",
        "train[numcolumns] = train[numcolumns].fillna(0)"
      ],
      "metadata": {
        "trusted": true,
        "execution": {
          "iopub.status.busy": "2025-03-23T09:44:08.727611Z",
          "iopub.execute_input": "2025-03-23T09:44:08.727822Z",
          "iopub.status.idle": "2025-03-23T09:44:08.844378Z",
          "shell.execute_reply.started": "2025-03-23T09:44:08.727803Z",
          "shell.execute_reply": "2025-03-23T09:44:08.8436Z"
        },
        "id": "JchFLnaC1C8a"
      },
      "outputs": [],
      "execution_count": null
    },
    {
      "cell_type": "code",
      "source": [
        "plt.figure(figsize=(15, 10))\n",
        "for i, column in enumerate(numcolumns[:5], 1):  # Plot first 6 numerical features\n",
        "    plt.subplot(2, 3, i)\n",
        "    sns.histplot(train[column], bins=50, kde=True)\n",
        "    plt.title(f\"Distribution of {column}\")\n",
        "plt.tight_layout()\n",
        "plt.show()"
      ],
      "metadata": {
        "trusted": true,
        "execution": {
          "iopub.status.busy": "2025-03-23T09:44:08.845284Z",
          "iopub.execute_input": "2025-03-23T09:44:08.845525Z",
          "iopub.status.idle": "2025-03-23T09:44:11.923417Z",
          "shell.execute_reply.started": "2025-03-23T09:44:08.8455Z",
          "shell.execute_reply": "2025-03-23T09:44:11.922515Z"
        },
        "id": "F_wAp3Em1C8a"
      },
      "outputs": [],
      "execution_count": null
    },
    {
      "cell_type": "markdown",
      "source": [
        "IsBetaUSER has only 1 variable\n",
        "\n",
        "Most users have only 1-2 anti virus products installed\n",
        "\n",
        "RealTimeProtectionState - distribution is highly skewed towards values 6-8"
      ],
      "metadata": {
        "id": "RPUrWHzN1C8a"
      }
    },
    {
      "cell_type": "code",
      "source": [
        "nunique_values = train[\"SMode\"].nunique()\n",
        "nunique_values\n"
      ],
      "metadata": {
        "trusted": true,
        "execution": {
          "iopub.status.busy": "2025-03-23T09:44:11.929587Z",
          "iopub.execute_input": "2025-03-23T09:44:11.929874Z",
          "iopub.status.idle": "2025-03-23T09:44:11.944208Z",
          "shell.execute_reply.started": "2025-03-23T09:44:11.929843Z",
          "shell.execute_reply": "2025-03-23T09:44:11.943357Z"
        },
        "id": "jgSna9Ra1C8a"
      },
      "outputs": [],
      "execution_count": null
    },
    {
      "cell_type": "code",
      "source": [
        "unique_values = train[\"SMode\"].unique()\n",
        "unique_values"
      ],
      "metadata": {
        "trusted": true,
        "execution": {
          "iopub.status.busy": "2025-03-23T09:44:11.94509Z",
          "iopub.execute_input": "2025-03-23T09:44:11.945681Z",
          "iopub.status.idle": "2025-03-23T09:44:11.956644Z",
          "shell.execute_reply.started": "2025-03-23T09:44:11.945644Z",
          "shell.execute_reply": "2025-03-23T09:44:11.955894Z"
        },
        "id": "4FdIGYKB1C8b"
      },
      "outputs": [],
      "execution_count": null
    },
    {
      "cell_type": "code",
      "source": [
        "value_counts = train[\"SMode\"].value_counts()\n",
        "print(value_counts)"
      ],
      "metadata": {
        "trusted": true,
        "execution": {
          "iopub.status.busy": "2025-03-23T09:44:11.957428Z",
          "iopub.execute_input": "2025-03-23T09:44:11.95763Z",
          "iopub.status.idle": "2025-03-23T09:44:11.970108Z",
          "shell.execute_reply.started": "2025-03-23T09:44:11.957612Z",
          "shell.execute_reply": "2025-03-23T09:44:11.969269Z"
        },
        "id": "jqY88lCh1C8b"
      },
      "outputs": [],
      "execution_count": null
    },
    {
      "cell_type": "code",
      "source": [
        "correlation = train[[\"SMode\", \"target\"]].corr()\n",
        "print(correlation)\n"
      ],
      "metadata": {
        "trusted": true,
        "execution": {
          "iopub.status.busy": "2025-03-23T09:44:11.971006Z",
          "iopub.execute_input": "2025-03-23T09:44:11.971221Z",
          "iopub.status.idle": "2025-03-23T09:44:11.994417Z",
          "shell.execute_reply.started": "2025-03-23T09:44:11.971201Z",
          "shell.execute_reply": "2025-03-23T09:44:11.993376Z"
        },
        "id": "Bq99ugEt1C8b"
      },
      "outputs": [],
      "execution_count": null
    },
    {
      "cell_type": "code",
      "source": [
        "s_mode_effect = train.groupby(\"SMode\")[\"target\"].mean()\n",
        "print(s_mode_effect)\n"
      ],
      "metadata": {
        "trusted": true,
        "execution": {
          "iopub.status.busy": "2025-03-23T09:44:11.995148Z",
          "iopub.execute_input": "2025-03-23T09:44:11.995399Z",
          "iopub.status.idle": "2025-03-23T09:44:12.009475Z",
          "shell.execute_reply.started": "2025-03-23T09:44:11.995376Z",
          "shell.execute_reply": "2025-03-23T09:44:12.008721Z"
        },
        "id": "Fjxehvo81C8b"
      },
      "outputs": [],
      "execution_count": null
    },
    {
      "cell_type": "code",
      "source": [
        "s_mode_effect = train.groupby(\"IsSystemProtected\")[\"target\"].mean()\n",
        "print(s_mode_effect)"
      ],
      "metadata": {
        "trusted": true,
        "execution": {
          "iopub.status.busy": "2025-03-23T09:44:12.010338Z",
          "iopub.execute_input": "2025-03-23T09:44:12.010653Z",
          "iopub.status.idle": "2025-03-23T09:44:12.031706Z",
          "shell.execute_reply.started": "2025-03-23T09:44:12.010619Z",
          "shell.execute_reply": "2025-03-23T09:44:12.030921Z"
        },
        "id": "jzeOF27Z1C8b"
      },
      "outputs": [],
      "execution_count": null
    },
    {
      "cell_type": "code",
      "source": [
        "\n",
        "s_mode_effect = train.groupby(\"OSVersion\")[\"target\"].mean()\n",
        "print(s_mode_effect)"
      ],
      "metadata": {
        "trusted": true,
        "execution": {
          "iopub.status.busy": "2025-03-23T09:44:12.037158Z",
          "iopub.execute_input": "2025-03-23T09:44:12.037384Z",
          "iopub.status.idle": "2025-03-23T09:44:12.052306Z",
          "shell.execute_reply.started": "2025-03-23T09:44:12.037365Z",
          "shell.execute_reply": "2025-03-23T09:44:12.051167Z"
        },
        "id": "J4C-G9Vu1C8b"
      },
      "outputs": [],
      "execution_count": null
    },
    {
      "cell_type": "code",
      "source": [
        "value_counts = train[\"OSVersion\"].value_counts()\n",
        "print(value_counts)"
      ],
      "metadata": {
        "trusted": true,
        "execution": {
          "iopub.status.busy": "2025-03-23T09:44:12.054869Z",
          "iopub.execute_input": "2025-03-23T09:44:12.055094Z",
          "iopub.status.idle": "2025-03-23T09:44:12.074894Z",
          "shell.execute_reply.started": "2025-03-23T09:44:12.055073Z",
          "shell.execute_reply": "2025-03-23T09:44:12.074088Z"
        },
        "id": "e9hvkTO91C8b"
      },
      "outputs": [],
      "execution_count": null
    },
    {
      "cell_type": "code",
      "source": [
        "# This indicates 10.0.4.0 has 100% malware rate\n",
        "# This indicates 10.0.1.0, 10.0.2.0, 10.0.3.0 has 0% malware rate\n",
        "#This is because of low sample size"
      ],
      "metadata": {
        "trusted": true,
        "execution": {
          "iopub.status.busy": "2025-03-23T09:44:12.075613Z",
          "iopub.execute_input": "2025-03-23T09:44:12.075839Z",
          "iopub.status.idle": "2025-03-23T09:44:12.089819Z",
          "shell.execute_reply.started": "2025-03-23T09:44:12.075819Z",
          "shell.execute_reply": "2025-03-23T09:44:12.088996Z"
        },
        "id": "M8iWf9451C8b"
      },
      "outputs": [],
      "execution_count": null
    },
    {
      "cell_type": "code",
      "source": [
        "value_counts = train[\"PlatformType\"].value_counts()\n",
        "print(value_counts)"
      ],
      "metadata": {
        "trusted": true,
        "execution": {
          "iopub.status.busy": "2025-03-23T09:44:12.090506Z",
          "iopub.execute_input": "2025-03-23T09:44:12.090734Z",
          "iopub.status.idle": "2025-03-23T09:44:12.112723Z",
          "shell.execute_reply.started": "2025-03-23T09:44:12.090714Z",
          "shell.execute_reply": "2025-03-23T09:44:12.111848Z"
        },
        "id": "DRFMrsoG1C8b"
      },
      "outputs": [],
      "execution_count": null
    },
    {
      "cell_type": "code",
      "source": [
        "s_mode_effect = train.groupby(\"PlatformType\")[\"target\"].mean()\n",
        "print(s_mode_effect)"
      ],
      "metadata": {
        "trusted": true,
        "execution": {
          "iopub.status.busy": "2025-03-23T09:44:12.113563Z",
          "iopub.execute_input": "2025-03-23T09:44:12.113843Z",
          "iopub.status.idle": "2025-03-23T09:44:12.134138Z",
          "shell.execute_reply.started": "2025-03-23T09:44:12.113814Z",
          "shell.execute_reply": "2025-03-23T09:44:12.133403Z"
        },
        "id": "asx6XwNr1C8b"
      },
      "outputs": [],
      "execution_count": null
    },
    {
      "cell_type": "code",
      "source": [
        "# Windows2016 has the lowest probability for malware but it is still has a very low sample size"
      ],
      "metadata": {
        "trusted": true,
        "execution": {
          "iopub.status.busy": "2025-03-23T09:44:12.135009Z",
          "iopub.execute_input": "2025-03-23T09:44:12.13522Z",
          "iopub.status.idle": "2025-03-23T09:44:12.144816Z",
          "shell.execute_reply.started": "2025-03-23T09:44:12.135201Z",
          "shell.execute_reply": "2025-03-23T09:44:12.144095Z"
        },
        "id": "7kDBmWVR1C8b"
      },
      "outputs": [],
      "execution_count": null
    },
    {
      "cell_type": "code",
      "source": [
        "value_counts = train[\"IsVirtualDevice\"].value_counts()\n",
        "print(value_counts)"
      ],
      "metadata": {
        "trusted": true,
        "execution": {
          "iopub.status.busy": "2025-03-23T09:44:12.145612Z",
          "iopub.execute_input": "2025-03-23T09:44:12.145808Z",
          "iopub.status.idle": "2025-03-23T09:44:12.165561Z",
          "shell.execute_reply.started": "2025-03-23T09:44:12.14579Z",
          "shell.execute_reply": "2025-03-23T09:44:12.164751Z"
        },
        "id": "WZmaH8bs1C8b"
      },
      "outputs": [],
      "execution_count": null
    },
    {
      "cell_type": "code",
      "source": [
        "s_mode_effect = train.groupby(\"IsVirtualDevice\")[\"target\"].mean()\n",
        "print(s_mode_effect)"
      ],
      "metadata": {
        "trusted": true,
        "execution": {
          "iopub.status.busy": "2025-03-23T09:44:12.166433Z",
          "iopub.execute_input": "2025-03-23T09:44:12.16673Z",
          "iopub.status.idle": "2025-03-23T09:44:12.181408Z",
          "shell.execute_reply.started": "2025-03-23T09:44:12.166698Z",
          "shell.execute_reply": "2025-03-23T09:44:12.180557Z"
        },
        "id": "Elk50jIy1C8b"
      },
      "outputs": [],
      "execution_count": null
    },
    {
      "cell_type": "code",
      "source": [
        "value_counts = train[\"OSArchitecture\"].value_counts()\n",
        "print(value_counts)"
      ],
      "metadata": {
        "trusted": true,
        "execution": {
          "iopub.status.busy": "2025-03-23T09:44:12.182145Z",
          "iopub.execute_input": "2025-03-23T09:44:12.182467Z",
          "iopub.status.idle": "2025-03-23T09:44:12.199329Z",
          "shell.execute_reply.started": "2025-03-23T09:44:12.182435Z",
          "shell.execute_reply": "2025-03-23T09:44:12.198485Z"
        },
        "id": "iBbumWoz1C8b"
      },
      "outputs": [],
      "execution_count": null
    },
    {
      "cell_type": "code",
      "source": [
        "s_mode_effect = train.groupby(\"OSArchitecture\")[\"target\"].mean()\n",
        "print(s_mode_effect)"
      ],
      "metadata": {
        "trusted": true,
        "execution": {
          "iopub.status.busy": "2025-03-23T09:44:12.200142Z",
          "iopub.execute_input": "2025-03-23T09:44:12.20066Z",
          "iopub.status.idle": "2025-03-23T09:44:12.22075Z",
          "shell.execute_reply.started": "2025-03-23T09:44:12.200624Z",
          "shell.execute_reply": "2025-03-23T09:44:12.219869Z"
        },
        "id": "dI-pUoTU1C8b"
      },
      "outputs": [],
      "execution_count": null
    },
    {
      "cell_type": "code",
      "source": [
        "s_mode_effect = train.groupby(\"PowerPlatformRole\")[\"target\"].mean()\n",
        "print(s_mode_effect)"
      ],
      "metadata": {
        "trusted": true,
        "execution": {
          "iopub.status.busy": "2025-03-23T09:44:12.221494Z",
          "iopub.execute_input": "2025-03-23T09:44:12.221726Z",
          "iopub.status.idle": "2025-03-23T09:44:12.243336Z",
          "shell.execute_reply.started": "2025-03-23T09:44:12.221703Z",
          "shell.execute_reply": "2025-03-23T09:44:12.242598Z"
        },
        "id": "ZrOx5UBm1C8e"
      },
      "outputs": [],
      "execution_count": null
    },
    {
      "cell_type": "code",
      "source": [
        "value_counts = train[\"PowerPlatformRole\"].value_counts()\n",
        "print(value_counts)"
      ],
      "metadata": {
        "trusted": true,
        "execution": {
          "iopub.status.busy": "2025-03-23T09:44:12.244147Z",
          "iopub.execute_input": "2025-03-23T09:44:12.24444Z",
          "iopub.status.idle": "2025-03-23T09:44:12.256958Z",
          "shell.execute_reply.started": "2025-03-23T09:44:12.244416Z",
          "shell.execute_reply": "2025-03-23T09:44:12.25597Z"
        },
        "id": "tLf-AQPe1C8e"
      },
      "outputs": [],
      "execution_count": null
    },
    {
      "cell_type": "code",
      "source": [
        "# FInding variance of each column"
      ],
      "metadata": {
        "trusted": true,
        "execution": {
          "iopub.status.busy": "2025-03-23T09:44:12.257772Z",
          "iopub.execute_input": "2025-03-23T09:44:12.258023Z",
          "iopub.status.idle": "2025-03-23T09:44:12.2722Z",
          "shell.execute_reply.started": "2025-03-23T09:44:12.258Z",
          "shell.execute_reply": "2025-03-23T09:44:12.27131Z"
        },
        "id": "ezuWqYAD1C8e"
      },
      "outputs": [],
      "execution_count": null
    },
    {
      "cell_type": "code",
      "source": [
        "variance_values = X[numcolumns].var()\n",
        "print(variance_values)"
      ],
      "metadata": {
        "trusted": true,
        "execution": {
          "iopub.status.busy": "2025-03-23T09:44:12.273021Z",
          "iopub.execute_input": "2025-03-23T09:44:12.273278Z",
          "iopub.status.idle": "2025-03-23T09:44:12.312609Z",
          "shell.execute_reply.started": "2025-03-23T09:44:12.273226Z",
          "shell.execute_reply": "2025-03-23T09:44:12.311713Z"
        },
        "id": "uUg9G_op1C8e"
      },
      "outputs": [],
      "execution_count": null
    },
    {
      "cell_type": "code",
      "source": [
        "#Using KNN Imputer for numerical columns and using simple imputer for categorical columns\n",
        "from sklearn.impute import KNNImputer\n",
        "knnimputer = KNNImputer(n_neighbors=7)\n",
        "X[numcolumns] = knnimputer.fit_transform(X[numcolumns])\n"
      ],
      "metadata": {
        "trusted": true,
        "execution": {
          "iopub.status.busy": "2025-03-23T09:44:12.313376Z",
          "iopub.execute_input": "2025-03-23T09:44:12.313622Z",
          "iopub.status.idle": "2025-03-23T09:44:59.961367Z",
          "shell.execute_reply.started": "2025-03-23T09:44:12.313599Z",
          "shell.execute_reply": "2025-03-23T09:44:59.960562Z"
        },
        "id": "2JnMmxe41C8e"
      },
      "outputs": [],
      "execution_count": null
    },
    {
      "cell_type": "code",
      "source": [
        "from sklearn.impute import SimpleImputer\n",
        "catimputer = SimpleImputer(strategy='most_frequent')"
      ],
      "metadata": {
        "trusted": true,
        "execution": {
          "iopub.status.busy": "2025-03-23T09:44:59.962227Z",
          "iopub.execute_input": "2025-03-23T09:44:59.962599Z",
          "iopub.status.idle": "2025-03-23T09:44:59.966744Z",
          "shell.execute_reply.started": "2025-03-23T09:44:59.962564Z",
          "shell.execute_reply": "2025-03-23T09:44:59.965702Z"
        },
        "id": "dwBOlfYT1C8e"
      },
      "outputs": [],
      "execution_count": null
    },
    {
      "cell_type": "code",
      "source": [
        "X[catcolumns] = catimputer.fit_transform(X[catcolumns])\n"
      ],
      "metadata": {
        "trusted": true,
        "execution": {
          "iopub.status.busy": "2025-03-23T09:44:59.967855Z",
          "iopub.execute_input": "2025-03-23T09:44:59.96807Z",
          "iopub.status.idle": "2025-03-23T09:45:00.337402Z",
          "shell.execute_reply.started": "2025-03-23T09:44:59.96805Z",
          "shell.execute_reply": "2025-03-23T09:45:00.336704Z"
        },
        "id": "Saz8S9Lr1C8e"
      },
      "outputs": [],
      "execution_count": null
    },
    {
      "cell_type": "code",
      "source": [
        "#Now converting the categorical values to numerical values (trying out various methods)\n",
        "from sklearn.preprocessing import LabelEncoder, StandardScaler, OneHotEncoder, MinMaxScaler\n",
        "label_encoders = {}\n",
        "for col in catcolumns:\n",
        "    le = LabelEncoder()\n",
        "    X[col] = le.fit_transform(X[col])\n",
        "    label_encoders[col] = le"
      ],
      "metadata": {
        "trusted": true,
        "execution": {
          "iopub.status.busy": "2025-03-23T09:45:00.338159Z",
          "iopub.execute_input": "2025-03-23T09:45:00.338408Z",
          "iopub.status.idle": "2025-03-23T09:45:00.822042Z",
          "shell.execute_reply.started": "2025-03-23T09:45:00.338385Z",
          "shell.execute_reply": "2025-03-23T09:45:00.821283Z"
        },
        "id": "G4CXO_VN1C8e"
      },
      "outputs": [],
      "execution_count": null
    },
    {
      "cell_type": "code",
      "source": [
        "# Scaling the numerical columns\n",
        "scaler = StandardScaler()\n",
        "X[numcolumns] = scaler.fit_transform(X[numcolumns])"
      ],
      "metadata": {
        "trusted": true,
        "execution": {
          "iopub.status.busy": "2025-03-23T09:45:00.822954Z",
          "iopub.execute_input": "2025-03-23T09:45:00.823195Z",
          "iopub.status.idle": "2025-03-23T09:45:00.953995Z",
          "shell.execute_reply.started": "2025-03-23T09:45:00.823173Z",
          "shell.execute_reply": "2025-03-23T09:45:00.953188Z"
        },
        "id": "CDKdjJub1C8e"
      },
      "outputs": [],
      "execution_count": null
    },
    {
      "cell_type": "code",
      "source": [
        "# using pipelining instead"
      ],
      "metadata": {
        "trusted": true,
        "execution": {
          "iopub.status.busy": "2025-03-23T09:45:00.954926Z",
          "iopub.execute_input": "2025-03-23T09:45:00.955314Z",
          "iopub.status.idle": "2025-03-23T09:45:00.959266Z",
          "shell.execute_reply.started": "2025-03-23T09:45:00.955275Z",
          "shell.execute_reply": "2025-03-23T09:45:00.958306Z"
        },
        "id": "hmbIh2_v1C8f"
      },
      "outputs": [],
      "execution_count": null
    },
    {
      "cell_type": "code",
      "source": [
        "#from sklearn.pipeline import Pipeline\n",
        "#from sklearn.compose import ColumnTransformer\n",
        "\n",
        "#num_pipeline = Pipeline([('imputer', KNNImputer(n_neighbors=7)),('scaler', StandardScaler())])\n",
        "\n",
        "#cat_pipeline = Pipeline([('imputer', SimpleImputer(strategy='most_frequent')),('encoder', OneHotEncoder(handle_unknown='ignore'))\n",
        "\n",
        "# Combining both pipelines using ColumnTransformer\n",
        "#preprocessor = ColumnTransformer([('num', num_pipeline, numcolumns),('cat', cat_pipeline, catcolumns)])\n",
        "\n",
        "# Fit and transform the dataset\n",
        "#X_transformed = preprocessor.fit_transform(X)\n",
        "\n",
        "# Convert back to a DataFrame\n",
        "#X= pd.DataFrame(X_transformed)\n"
      ],
      "metadata": {
        "trusted": true,
        "execution": {
          "iopub.status.busy": "2025-03-23T09:45:00.960175Z",
          "iopub.execute_input": "2025-03-23T09:45:00.960557Z",
          "iopub.status.idle": "2025-03-23T09:45:00.973895Z",
          "shell.execute_reply.started": "2025-03-23T09:45:00.960503Z",
          "shell.execute_reply": "2025-03-23T09:45:00.973299Z"
        },
        "id": "ABf6do2W1C8f"
      },
      "outputs": [],
      "execution_count": null
    },
    {
      "cell_type": "code",
      "source": [
        "train_log = train[numcolumns].apply(lambda x: np.log1p(x))\n",
        "plt.figure(figsize=(15, 8))\n",
        "sns.boxplot(data=train_log, orient='h')\n",
        "plt.title(\"Box and Whisker Plot for Numerical Features\")\n",
        "plt.xlabel(\"Values\")\n",
        "plt.ylabel(\"Features\")\n",
        "plt.show()\n"
      ],
      "metadata": {
        "trusted": true,
        "execution": {
          "iopub.status.busy": "2025-03-23T09:45:00.974686Z",
          "iopub.execute_input": "2025-03-23T09:45:00.974867Z",
          "iopub.status.idle": "2025-03-23T09:45:02.365458Z",
          "shell.execute_reply.started": "2025-03-23T09:45:00.97485Z",
          "shell.execute_reply": "2025-03-23T09:45:02.364592Z"
        },
        "id": "WRB9GrfJ1C8f"
      },
      "outputs": [],
      "execution_count": null
    },
    {
      "cell_type": "code",
      "source": [
        "# Calculate the outliers"
      ],
      "metadata": {
        "trusted": true,
        "execution": {
          "iopub.status.busy": "2025-03-23T09:45:02.366453Z",
          "iopub.execute_input": "2025-03-23T09:45:02.366685Z",
          "iopub.status.idle": "2025-03-23T09:45:02.370147Z",
          "shell.execute_reply.started": "2025-03-23T09:45:02.366664Z",
          "shell.execute_reply": "2025-03-23T09:45:02.369256Z"
        },
        "id": "fQcXG0Mi1C8f"
      },
      "outputs": [],
      "execution_count": null
    },
    {
      "cell_type": "code",
      "source": [
        "\n",
        "def detect_outliers_iqr(df, column):\n",
        "    Q1 = df[column].quantile(0.25)  # First quartile\n",
        "    Q3 = df[column].quantile(0.75)  # Third quartile\n",
        "    IQR = Q3 - Q1  # Interquartile Range\n",
        "    lower_bound = Q1 - 1.5 * IQR\n",
        "    upper_bound = Q3 + 1.5 * IQR\n",
        "\n",
        "    # Identifying outliers\n",
        "    outliers = df[(df[column] < lower_bound) | (df[column] > upper_bound)]\n",
        "\n",
        "    print(f\"Column: {column}\")\n",
        "    print(f\"Q1: {Q1}, Q3: {Q3}\")\n",
        "    print(f\"IQR: {IQR}\")\n",
        "    print(f\"Lower Bound: {lower_bound}, Upper Bound: {upper_bound}\")\n",
        "    print(f\"Number of outliers: {len(outliers)}\")\n",
        "\n",
        "    return outliers\n"
      ],
      "metadata": {
        "trusted": true,
        "execution": {
          "iopub.status.busy": "2025-03-23T09:45:02.371092Z",
          "iopub.execute_input": "2025-03-23T09:45:02.371378Z",
          "iopub.status.idle": "2025-03-23T09:45:02.387366Z",
          "shell.execute_reply.started": "2025-03-23T09:45:02.371347Z",
          "shell.execute_reply": "2025-03-23T09:45:02.38653Z"
        },
        "id": "2i0kzR041C8f"
      },
      "outputs": [],
      "execution_count": null
    },
    {
      "cell_type": "code",
      "source": [
        "outliers = detect_outliers_iqr(train, \"AntivirusConfigID\")"
      ],
      "metadata": {
        "trusted": true,
        "execution": {
          "iopub.status.busy": "2025-03-23T09:45:02.388202Z",
          "iopub.execute_input": "2025-03-23T09:45:02.388456Z",
          "iopub.status.idle": "2025-03-23T09:45:02.419861Z",
          "shell.execute_reply.started": "2025-03-23T09:45:02.388434Z",
          "shell.execute_reply": "2025-03-23T09:45:02.418942Z"
        },
        "id": "86IXcU791C8f"
      },
      "outputs": [],
      "execution_count": null
    },
    {
      "cell_type": "code",
      "source": [
        "import seaborn as sns\n",
        "import matplotlib.pyplot as plt\n",
        "\n",
        "X['DateOS'] = pd.to_datetime(X['DateOS']).map(lambda x: x.toordinal()) #was getting an error so converted to numeric\n",
        "\n",
        "corr_matrix = X.corr().abs()\n",
        "sns.heatmap(corr_matrix)\n",
        "plt.show()"
      ],
      "metadata": {
        "trusted": true,
        "execution": {
          "iopub.status.busy": "2025-03-23T09:45:02.420691Z",
          "iopub.execute_input": "2025-03-23T09:45:02.420926Z",
          "iopub.status.idle": "2025-03-23T09:45:04.620526Z",
          "shell.execute_reply.started": "2025-03-23T09:45:02.420903Z",
          "shell.execute_reply": "2025-03-23T09:45:04.619616Z"
        },
        "id": "RHjb10Dg1C8f"
      },
      "outputs": [],
      "execution_count": null
    },
    {
      "cell_type": "code",
      "source": [
        "from sklearn.model_selection import train_test_split, GridSearchCV\n",
        "X_train, X_test, y_train, y_test = train_test_split(X, y, test_size=0.2, random_state=42)"
      ],
      "metadata": {
        "trusted": true,
        "execution": {
          "iopub.status.busy": "2025-03-23T09:45:04.621515Z",
          "iopub.execute_input": "2025-03-23T09:45:04.62178Z",
          "iopub.status.idle": "2025-03-23T09:45:04.714919Z",
          "shell.execute_reply.started": "2025-03-23T09:45:04.621754Z",
          "shell.execute_reply": "2025-03-23T09:45:04.714125Z"
        },
        "id": "CKQkKh-k1C8f"
      },
      "outputs": [],
      "execution_count": null
    },
    {
      "cell_type": "code",
      "source": [
        " # Replacing NaN with the most frequent value\n",
        "y.fillna(y.mode()[0], inplace=True)"
      ],
      "metadata": {
        "trusted": true,
        "execution": {
          "iopub.status.busy": "2025-03-23T09:45:04.715945Z",
          "iopub.execute_input": "2025-03-23T09:45:04.716187Z",
          "iopub.status.idle": "2025-03-23T09:45:04.721584Z",
          "shell.execute_reply.started": "2025-03-23T09:45:04.716165Z",
          "shell.execute_reply": "2025-03-23T09:45:04.72033Z"
        },
        "id": "oZHhbw6G1C8f"
      },
      "outputs": [],
      "execution_count": null
    },
    {
      "cell_type": "code",
      "source": [
        "from sklearn.feature_selection import VarianceThreshold\n",
        "\n",
        "var_thresh = VarianceThreshold(threshold=0.01)\n",
        "X_train = var_thresh.fit_transform(X_train)\n",
        "X_test = var_thresh.transform(X_test)"
      ],
      "metadata": {
        "trusted": true,
        "execution": {
          "iopub.status.busy": "2025-03-23T09:45:04.722498Z",
          "iopub.execute_input": "2025-03-23T09:45:04.722723Z",
          "iopub.status.idle": "2025-03-23T09:45:04.857816Z",
          "shell.execute_reply.started": "2025-03-23T09:45:04.722702Z",
          "shell.execute_reply": "2025-03-23T09:45:04.856615Z"
        },
        "id": "KS1okL0F1C8f"
      },
      "outputs": [],
      "execution_count": null
    },
    {
      "cell_type": "code",
      "source": [
        "# Model 1: Decision Tree with Hyperparameter Tuning\n",
        "\n",
        "from sklearn.tree import DecisionTreeClassifier\n",
        "dtc = DecisionTreeClassifier(random_state=42)\n",
        "param_grid_dt = {'max_depth': [20, 30],'min_samples_split': [2, 5],'min_samples_leaf': [1, 2]}\n",
        "dtc"
      ],
      "metadata": {
        "trusted": true,
        "execution": {
          "iopub.status.busy": "2025-03-23T09:45:04.858871Z",
          "iopub.execute_input": "2025-03-23T09:45:04.859138Z",
          "iopub.status.idle": "2025-03-23T09:45:04.865798Z",
          "shell.execute_reply.started": "2025-03-23T09:45:04.859111Z",
          "shell.execute_reply": "2025-03-23T09:45:04.864993Z"
        },
        "id": "uoVXiR4N1C8f"
      },
      "outputs": [],
      "execution_count": null
    },
    {
      "cell_type": "code",
      "source": [
        "# Tuning using GridSearchCV"
      ],
      "metadata": {
        "trusted": true,
        "execution": {
          "iopub.status.busy": "2025-03-23T09:45:04.866613Z",
          "iopub.execute_input": "2025-03-23T09:45:04.866938Z",
          "iopub.status.idle": "2025-03-23T09:45:04.879575Z",
          "shell.execute_reply.started": "2025-03-23T09:45:04.866912Z",
          "shell.execute_reply": "2025-03-23T09:45:04.878742Z"
        },
        "id": "vW8Cf1Cz1C8f"
      },
      "outputs": [],
      "execution_count": null
    },
    {
      "cell_type": "code",
      "source": [
        "grid_search_cv = GridSearchCV(dtc, param_grid_dt, cv=3, scoring='accuracy', n_jobs=-1)\n",
        "grid_search_cv.fit(X_train, y_train)\n",
        "\n",
        "best_params_cv = grid_search_cv.best_params_\n",
        "best_cv = grid_search_cv.best_estimator_\n",
        "cv_accuracy = round(best_cv.score(X_test, y_test), 2)"
      ],
      "metadata": {
        "trusted": true,
        "execution": {
          "iopub.status.busy": "2025-03-23T09:45:04.880541Z",
          "iopub.execute_input": "2025-03-23T09:45:04.880758Z",
          "iopub.status.idle": "2025-03-23T09:45:23.160253Z",
          "shell.execute_reply.started": "2025-03-23T09:45:04.880738Z",
          "shell.execute_reply": "2025-03-23T09:45:23.159356Z"
        },
        "id": "d8tSxzDO1C8g"
      },
      "outputs": [],
      "execution_count": null
    },
    {
      "cell_type": "code",
      "source": [
        "# GridSearchCV is testing all possible combinations instead of doing it manually"
      ],
      "metadata": {
        "trusted": true,
        "execution": {
          "iopub.status.busy": "2025-03-23T09:45:23.161207Z",
          "iopub.execute_input": "2025-03-23T09:45:23.161521Z",
          "iopub.status.idle": "2025-03-23T09:45:23.165464Z",
          "shell.execute_reply.started": "2025-03-23T09:45:23.161495Z",
          "shell.execute_reply": "2025-03-23T09:45:23.164444Z"
        },
        "id": "PdABv-I_1C8g"
      },
      "outputs": [],
      "execution_count": null
    },
    {
      "cell_type": "code",
      "source": [
        "cv_accuracy"
      ],
      "metadata": {
        "trusted": true,
        "execution": {
          "iopub.status.busy": "2025-03-23T09:45:23.166419Z",
          "iopub.execute_input": "2025-03-23T09:45:23.166649Z",
          "iopub.status.idle": "2025-03-23T09:45:23.183503Z",
          "shell.execute_reply.started": "2025-03-23T09:45:23.166627Z",
          "shell.execute_reply": "2025-03-23T09:45:23.182789Z"
        },
        "id": "UK5tJiZH1C8g"
      },
      "outputs": [],
      "execution_count": null
    },
    {
      "cell_type": "code",
      "source": [
        "best_cv"
      ],
      "metadata": {
        "trusted": true,
        "execution": {
          "iopub.status.busy": "2025-03-23T09:45:23.184274Z",
          "iopub.execute_input": "2025-03-23T09:45:23.184524Z",
          "iopub.status.idle": "2025-03-23T09:45:23.20019Z",
          "shell.execute_reply.started": "2025-03-23T09:45:23.184487Z",
          "shell.execute_reply": "2025-03-23T09:45:23.199484Z"
        },
        "id": "3TMxSKUh1C8g"
      },
      "outputs": [],
      "execution_count": null
    },
    {
      "cell_type": "code",
      "source": [
        "best_params_cv"
      ],
      "metadata": {
        "trusted": true,
        "execution": {
          "iopub.status.busy": "2025-03-23T09:45:23.200989Z",
          "iopub.execute_input": "2025-03-23T09:45:23.201226Z",
          "iopub.status.idle": "2025-03-23T09:45:23.216941Z",
          "shell.execute_reply.started": "2025-03-23T09:45:23.201206Z",
          "shell.execute_reply": "2025-03-23T09:45:23.216315Z"
        },
        "id": "gPgqfY1N1C8g"
      },
      "outputs": [],
      "execution_count": null
    },
    {
      "cell_type": "code",
      "source": [
        "# model 2 with Random Forest Classifier"
      ],
      "metadata": {
        "trusted": true,
        "execution": {
          "iopub.status.busy": "2025-03-23T09:45:23.217715Z",
          "iopub.execute_input": "2025-03-23T09:45:23.217986Z",
          "iopub.status.idle": "2025-03-23T09:45:23.230288Z",
          "shell.execute_reply.started": "2025-03-23T09:45:23.217957Z",
          "shell.execute_reply": "2025-03-23T09:45:23.229649Z"
        },
        "id": "JFE5lQRY1C8g"
      },
      "outputs": [],
      "execution_count": null
    },
    {
      "cell_type": "code",
      "source": [
        "from sklearn.ensemble import RandomForestClassifier\n",
        "\n",
        "rfc = RandomForestClassifier(n_estimators=100, max_depth=30, random_state=42)\n",
        "rfc.fit(X_train, y_train)\n",
        "rfc_accuracy = rfc.score(X_test, y_test)\n",
        "rfc_accuracy"
      ],
      "metadata": {
        "trusted": true,
        "execution": {
          "iopub.status.busy": "2025-03-23T09:45:23.231011Z",
          "iopub.execute_input": "2025-03-23T09:45:23.231224Z",
          "iopub.status.idle": "2025-03-23T09:45:47.261097Z",
          "shell.execute_reply.started": "2025-03-23T09:45:23.231204Z",
          "shell.execute_reply": "2025-03-23T09:45:47.260042Z"
        },
        "id": "cAUQyKHR1C8g"
      },
      "outputs": [],
      "execution_count": null
    },
    {
      "cell_type": "code",
      "source": [
        "# model 3 with XGBoost"
      ],
      "metadata": {
        "trusted": true,
        "execution": {
          "iopub.status.busy": "2025-03-23T09:45:47.261973Z",
          "iopub.execute_input": "2025-03-23T09:45:47.262268Z",
          "iopub.status.idle": "2025-03-23T09:45:47.266103Z",
          "shell.execute_reply.started": "2025-03-23T09:45:47.262215Z",
          "shell.execute_reply": "2025-03-23T09:45:47.265043Z"
        },
        "id": "WvviMOGg1C8g"
      },
      "outputs": [],
      "execution_count": null
    },
    {
      "cell_type": "code",
      "source": [
        "import xgboost as xgb\n",
        "\n",
        "xgb_model = xgb.XGBClassifier(n_estimators=300, max_depth=10, learning_rate=0.05, random_state=42)\n",
        "xgb_model.fit(X_train, y_train)\n",
        "xgb_accuracy = xgb_model.score(X_test, y_test)\n",
        "xgb_accuracy"
      ],
      "metadata": {
        "trusted": true,
        "execution": {
          "iopub.status.busy": "2025-03-23T09:45:47.267315Z",
          "iopub.execute_input": "2025-03-23T09:45:47.267662Z",
          "iopub.status.idle": "2025-03-23T09:45:55.718771Z",
          "shell.execute_reply.started": "2025-03-23T09:45:47.267626Z",
          "shell.execute_reply": "2025-03-23T09:45:55.716758Z"
        },
        "id": "ogVldYAd1C8h"
      },
      "outputs": [],
      "execution_count": null
    },
    {
      "cell_type": "code",
      "source": [
        "# model 4 using lgb"
      ],
      "metadata": {
        "trusted": true,
        "execution": {
          "iopub.status.busy": "2025-03-23T09:45:55.719419Z",
          "iopub.execute_input": "2025-03-23T09:45:55.719669Z",
          "iopub.status.idle": "2025-03-23T09:45:55.726003Z",
          "shell.execute_reply.started": "2025-03-23T09:45:55.719646Z",
          "shell.execute_reply": "2025-03-23T09:45:55.72521Z"
        },
        "id": "XmHy6gL31C8h"
      },
      "outputs": [],
      "execution_count": null
    },
    {
      "cell_type": "code",
      "source": [
        "import lightgbm as lgb\n",
        "\n",
        "lgb_model = lgb.LGBMClassifier(n_estimators=500, max_depth=15, learning_rate=0.05, random_state=42)\n",
        "lgb_model.fit(X_train, y_train)\n",
        "\n",
        "lgb_accuracy = lgb_model.score(X_test, y_test)\n",
        "print(\"LightGBM Accuracy:\", lgb_accuracy)\n"
      ],
      "metadata": {
        "trusted": true,
        "execution": {
          "iopub.status.busy": "2025-03-23T09:45:55.727303Z",
          "iopub.execute_input": "2025-03-23T09:45:55.727595Z",
          "iopub.status.idle": "2025-03-23T09:46:00.606635Z",
          "shell.execute_reply.started": "2025-03-23T09:45:55.727568Z",
          "shell.execute_reply": "2025-03-23T09:46:00.605525Z"
        },
        "id": "q3MaJFUN1C8h"
      },
      "outputs": [],
      "execution_count": null
    },
    {
      "cell_type": "code",
      "source": [
        "# out of the all models tested, lgb model provides the highest score out of all."
      ],
      "metadata": {
        "trusted": true,
        "execution": {
          "iopub.status.busy": "2025-03-23T09:46:00.607549Z",
          "iopub.execute_input": "2025-03-23T09:46:00.607864Z",
          "iopub.status.idle": "2025-03-23T09:46:00.611284Z",
          "shell.execute_reply.started": "2025-03-23T09:46:00.607837Z",
          "shell.execute_reply": "2025-03-23T09:46:00.610308Z"
        },
        "id": "Mp7gKZR71C8h"
      },
      "outputs": [],
      "execution_count": null
    },
    {
      "cell_type": "code",
      "source": [
        "# Loading the test dataset and dropping MachineID\n",
        "test = pd.read_csv(\"/kaggle/input/System-Threat-Forecaster/test.csv\")\n",
        "test_data = test.drop(columns=['MachineID'])"
      ],
      "metadata": {
        "trusted": true,
        "execution": {
          "iopub.status.busy": "2025-03-23T09:46:00.612268Z",
          "iopub.execute_input": "2025-03-23T09:46:00.612611Z",
          "iopub.status.idle": "2025-03-23T09:46:00.739549Z",
          "shell.execute_reply.started": "2025-03-23T09:46:00.612576Z",
          "shell.execute_reply": "2025-03-23T09:46:00.73844Z"
        },
        "id": "zRV-HpT21C8h"
      },
      "outputs": [],
      "execution_count": null
    },
    {
      "cell_type": "code",
      "source": [
        "test_data[catcolumns] = catimputer.transform(test_data[catcolumns])"
      ],
      "metadata": {
        "trusted": true,
        "execution": {
          "iopub.status.busy": "2025-03-23T09:46:00.740557Z",
          "iopub.execute_input": "2025-03-23T09:46:00.740817Z",
          "iopub.status.idle": "2025-03-23T09:46:00.760553Z",
          "shell.execute_reply.started": "2025-03-23T09:46:00.740793Z",
          "shell.execute_reply": "2025-03-23T09:46:00.759806Z"
        },
        "id": "LbT0SLxm1C8h"
      },
      "outputs": [],
      "execution_count": null
    },
    {
      "cell_type": "code",
      "source": [
        "knn_imputer = KNNImputer(n_neighbors=5)\n",
        "test_data[numcolumns] = knn_imputer.fit_transform(test_data[numcolumns])\n"
      ],
      "metadata": {
        "trusted": true,
        "execution": {
          "iopub.status.busy": "2025-03-23T09:46:00.761793Z",
          "iopub.execute_input": "2025-03-23T09:46:00.762089Z",
          "iopub.status.idle": "2025-03-23T09:46:01.138151Z",
          "shell.execute_reply.started": "2025-03-23T09:46:00.762058Z",
          "shell.execute_reply": "2025-03-23T09:46:01.137102Z"
        },
        "id": "SnHsyn591C8h"
      },
      "outputs": [],
      "execution_count": null
    },
    {
      "cell_type": "code",
      "source": [
        "#applying the same label encoding for test\n",
        "for col in catcolumns:\n",
        "    if col in label_encoders:\n",
        "        test_data[col] = test_data[col].astype(str).map(\n",
        "            lambda s: label_encoders[col].transform([s])[0] if s in label_encoders[col].classes_ else -1\n",
        "        )\n",
        "\n"
      ],
      "metadata": {
        "trusted": true,
        "execution": {
          "iopub.status.busy": "2025-03-23T09:46:01.139147Z",
          "iopub.execute_input": "2025-03-23T09:46:01.139416Z",
          "iopub.status.idle": "2025-03-23T09:46:51.911821Z",
          "shell.execute_reply.started": "2025-03-23T09:46:01.139391Z",
          "shell.execute_reply": "2025-03-23T09:46:51.910811Z"
        },
        "id": "xPIRgeIs1C8h"
      },
      "outputs": [],
      "execution_count": null
    },
    {
      "cell_type": "code",
      "source": [
        "test_data[numcolumns] = scaler.transform(test_data[numcolumns])\n",
        "test_data = var_thresh.transform(test_data)"
      ],
      "metadata": {
        "trusted": true,
        "execution": {
          "iopub.status.busy": "2025-03-23T09:46:51.912749Z",
          "iopub.execute_input": "2025-03-23T09:46:51.913072Z",
          "iopub.status.idle": "2025-03-23T09:46:51.934528Z",
          "shell.execute_reply.started": "2025-03-23T09:46:51.913039Z",
          "shell.execute_reply": "2025-03-23T09:46:51.933776Z"
        },
        "id": "1-4aDWjr1C8h"
      },
      "outputs": [],
      "execution_count": null
    },
    {
      "cell_type": "code",
      "source": [
        "lgb_predictions = lgb_model.predict(test_data)"
      ],
      "metadata": {
        "trusted": true,
        "execution": {
          "iopub.status.busy": "2025-03-23T09:46:51.935365Z",
          "iopub.execute_input": "2025-03-23T09:46:51.935582Z",
          "iopub.status.idle": "2025-03-23T09:46:52.108621Z",
          "shell.execute_reply.started": "2025-03-23T09:46:51.935562Z",
          "shell.execute_reply": "2025-03-23T09:46:52.107847Z"
        },
        "id": "rxt0OpDz1C8h"
      },
      "outputs": [],
      "execution_count": null
    },
    {
      "cell_type": "code",
      "source": [
        "# Plot confusion matrix\n",
        "from sklearn.metrics import confusion_matrix, ConfusionMatrixDisplay\n",
        "\n",
        "y_pred = lgb_model.predict(X_test)\n",
        "cm = confusion_matrix(y_test, y_pred)\n",
        "plt.figure(figsize=(6, 5))\n",
        "sns.heatmap(cm, annot=True, fmt=\"d\", cmap=\"Blues\", xticklabels=[\"No Malware\", \"Malware\"], yticklabels=[\"No Malware\", \"Malware\"])\n",
        "plt.xlabel(\"Predicted\")\n",
        "plt.ylabel(\"Actual\")\n",
        "plt.title(\"Confusion Matrix - LightGBM\")\n",
        "plt.show()"
      ],
      "metadata": {
        "trusted": true,
        "execution": {
          "iopub.status.busy": "2025-03-23T09:46:52.10951Z",
          "iopub.execute_input": "2025-03-23T09:46:52.109727Z",
          "iopub.status.idle": "2025-03-23T09:46:52.72603Z",
          "shell.execute_reply.started": "2025-03-23T09:46:52.109707Z",
          "shell.execute_reply": "2025-03-23T09:46:52.724998Z"
        },
        "id": "cLZCo7VK1C8h"
      },
      "outputs": [],
      "execution_count": null
    },
    {
      "cell_type": "markdown",
      "source": [
        "Inference from confusion matrix\n",
        "\n",
        "1. Accuracy\n",
        "The model has an accuracy of 63.13%.\n",
        "\n",
        "2. Precision\n",
        "62.7% of predicted malware cases are actually malware.\n",
        "\n",
        "3. Recall\n",
        "66.8% of actual malware cases are detected correctly.\n",
        "\n",
        "4. F1 score is 64.7%"
      ],
      "metadata": {
        "id": "e4S1omgA1C8i"
      }
    },
    {
      "cell_type": "code",
      "source": [
        "import lightgbm as lgb\n",
        "\n",
        "lgb_model = lgb.LGBMClassifier(n_estimators=1000, max_depth=15, learning_rate=0.01, random_state=42)\n",
        "lgb_model.fit(X_train, y_train)\n",
        "\n",
        "lgb_accuracy = lgb_model.score(X_test, y_test)\n",
        "print(\"LightGBM Accuracy:\", lgb_accuracy)\n"
      ],
      "metadata": {
        "trusted": true,
        "execution": {
          "iopub.status.busy": "2025-03-23T09:46:52.727002Z",
          "iopub.execute_input": "2025-03-23T09:46:52.727351Z",
          "iopub.status.idle": "2025-03-23T09:47:04.322863Z",
          "shell.execute_reply.started": "2025-03-23T09:46:52.727316Z",
          "shell.execute_reply": "2025-03-23T09:47:04.321868Z"
        },
        "id": "98Tr_2gC1C8i"
      },
      "outputs": [],
      "execution_count": null
    },
    {
      "cell_type": "code",
      "source": [
        "#saving the csv file in submission.csv"
      ],
      "metadata": {
        "trusted": true,
        "execution": {
          "iopub.status.busy": "2025-03-23T09:47:04.32382Z",
          "iopub.execute_input": "2025-03-23T09:47:04.324184Z",
          "iopub.status.idle": "2025-03-23T09:47:04.327738Z",
          "shell.execute_reply.started": "2025-03-23T09:47:04.324147Z",
          "shell.execute_reply": "2025-03-23T09:47:04.326793Z"
        },
        "id": "cceeNJbp1C8i"
      },
      "outputs": [],
      "execution_count": null
    },
    {
      "cell_type": "code",
      "source": [
        "submission = pd.DataFrame({'target': lgb_predictions})\n",
        "submission.index.name = 'id'\n",
        "submission.to_csv('/kaggle/working/submission.csv')"
      ],
      "metadata": {
        "trusted": true,
        "execution": {
          "iopub.status.busy": "2025-03-23T09:47:04.32906Z",
          "iopub.execute_input": "2025-03-23T09:47:04.329441Z",
          "iopub.status.idle": "2025-03-23T09:47:04.350998Z",
          "shell.execute_reply.started": "2025-03-23T09:47:04.329405Z",
          "shell.execute_reply": "2025-03-23T09:47:04.350327Z"
        },
        "id": "NDh-RzKr1C8i"
      },
      "outputs": [],
      "execution_count": null
    }
  ]
}